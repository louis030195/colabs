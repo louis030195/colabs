{
  "nbformat": 4,
  "nbformat_minor": 0,
  "metadata": {
    "colab": {
      "name": "img2poem.ipynb",
      "version": "0.3.2",
      "provenance": [],
      "collapsed_sections": [],
      "toc_visible": true,
      "include_colab_link": true
    },
    "kernelspec": {
      "name": "python3",
      "display_name": "Python 3"
    }
  },
  "cells": [
    {
      "cell_type": "markdown",
      "metadata": {
        "id": "view-in-github",
        "colab_type": "text"
      },
      "source": [
        "<a href=\"https://colab.research.google.com/github/louis030195/colabs/blob/master/img2poem.ipynb\" target=\"_parent\"><img src=\"https://colab.research.google.com/assets/colab-badge.svg\" alt=\"Open In Colab\"/></a>"
      ]
    },
    {
      "metadata": {
        "id": "Nq1LJNEf24pp",
        "colab_type": "text"
      },
      "cell_type": "markdown",
      "source": [
        "# Beyond Narrative Description: Generating Poetry from Images by Multi-Adversarial Training\n",
        "\n",
        "[Github](https://github.com/bei21/img2poem)"
      ]
    },
    {
      "metadata": {
        "id": "Ww2I8l2U08lI",
        "colab_type": "code",
        "outputId": "e9058a7f-6d05-4ad9-c103-d91e1357b6c3",
        "colab": {
          "base_uri": "https://localhost:8080/",
          "height": 248
        }
      },
      "cell_type": "code",
      "source": [
        "# Install required packages\n",
        "!pip install mxnet colorama"
      ],
      "execution_count": 0,
      "outputs": [
        {
          "output_type": "stream",
          "text": [
            "Requirement already satisfied: mxnet in /usr/local/lib/python3.6/dist-packages (1.3.1)\n",
            "Collecting colorama\n",
            "  Downloading https://files.pythonhosted.org/packages/4f/a6/728666f39bfff1719fc94c481890b2106837da9318031f71a8424b662e12/colorama-0.4.1-py2.py3-none-any.whl\n",
            "Requirement already satisfied: graphviz<0.9.0,>=0.8.1 in /usr/local/lib/python3.6/dist-packages (from mxnet) (0.8.4)\n",
            "Requirement already satisfied: numpy<1.15.0,>=1.8.2 in /usr/local/lib/python3.6/dist-packages (from mxnet) (1.14.6)\n",
            "Requirement already satisfied: requests>=2.20.0 in /usr/local/lib/python3.6/dist-packages (from mxnet) (2.21.0)\n",
            "Requirement already satisfied: idna<2.9,>=2.5 in /usr/local/lib/python3.6/dist-packages (from requests>=2.20.0->mxnet) (2.6)\n",
            "Requirement already satisfied: urllib3<1.25,>=1.21.1 in /usr/local/lib/python3.6/dist-packages (from requests>=2.20.0->mxnet) (1.22)\n",
            "Requirement already satisfied: certifi>=2017.4.17 in /usr/local/lib/python3.6/dist-packages (from requests>=2.20.0->mxnet) (2018.11.29)\n",
            "Requirement already satisfied: chardet<3.1.0,>=3.0.2 in /usr/local/lib/python3.6/dist-packages (from requests>=2.20.0->mxnet) (3.0.4)\n",
            "Installing collected packages: colorama\n",
            "Successfully installed colorama-0.4.1\n"
          ],
          "name": "stdout"
        }
      ]
    },
    {
      "metadata": {
        "id": "Z_h_NHByx51u",
        "colab_type": "code",
        "outputId": "de1ed36e-60f1-4928-bfdc-1ab94e8a5081",
        "colab": {
          "base_uri": "https://localhost:8080/",
          "height": 140
        }
      },
      "cell_type": "code",
      "source": [
        "# Download the repository\n",
        "!git clone https://github.com/bei21/img2poem.git"
      ],
      "execution_count": 0,
      "outputs": [
        {
          "output_type": "stream",
          "text": [
            "Cloning into 'img2poem'...\n",
            "remote: Enumerating objects: 17, done.\u001b[K\n",
            "remote: Counting objects: 100% (17/17), done.\u001b[K\n",
            "remote: Compressing objects: 100% (17/17), done.\u001b[K\n",
            "remote: Total 195 (delta 6), reused 2 (delta 0), pack-reused 178\u001b[K\n",
            "Receiving objects: 100% (195/195), 11.12 MiB | 23.14 MiB/s, done.\n",
            "Resolving deltas: 100% (48/48), done.\n"
          ],
          "name": "stdout"
        }
      ]
    },
    {
      "metadata": {
        "id": "DJHVhiNmyKdS",
        "colab_type": "code",
        "colab": {}
      },
      "cell_type": "code",
      "source": [
        "import os\n",
        "os.chdir('img2poem/code')"
      ],
      "execution_count": 0,
      "outputs": []
    },
    {
      "metadata": {
        "id": "hwPVtZ1U2zXz",
        "colab_type": "text"
      },
      "cell_type": "markdown",
      "source": [
        "## Download model"
      ]
    },
    {
      "metadata": {
        "id": "2bvO9IP8zorv",
        "colab_type": "code",
        "outputId": "5f841365-f3b8-43b2-fd77-8acc003f2b73",
        "colab": {
          "base_uri": "https://localhost:8080/",
          "height": 230
        }
      },
      "cell_type": "code",
      "source": [
        "!wget https://lfbhvg.bn.files.1drv.com/y4m-_VP0KTyEJwXVaf_QRWQd2cGnPcAHfSfYzHRr1B-623UaC6LiwyscN-4CNa6nz-2QVBG7bCgBnMCuzlfRYD3sxXtfAVwl8yzQPAQYugeVLZgE9aFU_WVeS5BMcFHvFohiuspx64IgG3gWFK5JGiQK-AQN_7GeLVA1BCgSKHQby5VztZhovlRWF3gVrX4FvIHSfJ-61xMlHLGI4drHleUcw/model.tar"
      ],
      "execution_count": 0,
      "outputs": [
        {
          "output_type": "stream",
          "text": [
            "--2019-02-13 12:24:36--  https://lfbhvg.bn.files.1drv.com/y4m-_VP0KTyEJwXVaf_QRWQd2cGnPcAHfSfYzHRr1B-623UaC6LiwyscN-4CNa6nz-2QVBG7bCgBnMCuzlfRYD3sxXtfAVwl8yzQPAQYugeVLZgE9aFU_WVeS5BMcFHvFohiuspx64IgG3gWFK5JGiQK-AQN_7GeLVA1BCgSKHQby5VztZhovlRWF3gVrX4FvIHSfJ-61xMlHLGI4drHleUcw/model.tar\n",
            "Resolving lfbhvg.bn.files.1drv.com (lfbhvg.bn.files.1drv.com)... 13.107.42.12\n",
            "Connecting to lfbhvg.bn.files.1drv.com (lfbhvg.bn.files.1drv.com)|13.107.42.12|:443... connected.\n",
            "HTTP request sent, awaiting response... 200 OK\n",
            "Length: 1475885568 (1.4G) [application/octet-stream]\n",
            "Saving to: ‘model.tar’\n",
            "\n",
            "model.tar           100%[===================>]   1.37G  29.3MB/s    in 50s     \n",
            "\n",
            "2019-02-13 12:25:26 (28.3 MB/s) - ‘model.tar’ saved [1475885568/1475885568]\n",
            "\n"
          ],
          "name": "stdout"
        }
      ]
    },
    {
      "metadata": {
        "id": "oo_vGPjN1GYP",
        "colab_type": "code",
        "outputId": "5d19a309-d924-43b2-98f4-5c141858910a",
        "colab": {
          "base_uri": "https://localhost:8080/",
          "height": 175
        }
      },
      "cell_type": "code",
      "source": [
        "!tar xvf model.tar"
      ],
      "execution_count": 0,
      "outputs": [
        {
          "output_type": "stream",
          "text": [
            "model/\n",
            "model/ckpt/\n",
            "model/ckpt/epoch03_lr0.000005.ckpt.data-00000-of-00001\n",
            "model/ckpt/epoch03_lr0.000005.ckpt.index\n",
            "model/ckpt/epoch03_lr0.000005.ckpt.meta\n",
            "model/object.params\n",
            "model/scene.params\n",
            "model/Sentiment.params\n",
            "model/word2id_5.json\n"
          ],
          "name": "stdout"
        }
      ]
    },
    {
      "metadata": {
        "id": "jvUJ8wAu3MuD",
        "colab_type": "text"
      },
      "cell_type": "markdown",
      "source": [
        "## Run test"
      ]
    },
    {
      "metadata": {
        "id": "C2D6Llpx0i4I",
        "colab_type": "code",
        "colab": {}
      },
      "cell_type": "code",
      "source": [
        "os.chdir('src')"
      ],
      "execution_count": 0,
      "outputs": []
    },
    {
      "metadata": {
        "id": "JUBfjQfc2gAM",
        "colab_type": "code",
        "outputId": "8014ae43-d8a1-4346-f229-5f15d13f3556",
        "colab": {
          "base_uri": "https://localhost:8080/",
          "height": 477
        }
      },
      "cell_type": "code",
      "source": [
        "# Let's try with some famous paintings\n",
        "!wget https://learnodo-newtonic.com/wp-content/uploads/2014/10/Famous-Renaissance-Paintings-Featured-Image-The-Creation-of-Adam.jpg https://wisetoast.com/wp-content/uploads/2015/10/Starry-Night-by-Vincent-Van-Gogh-painting.jpg"
      ],
      "execution_count": 0,
      "outputs": [
        {
          "output_type": "stream",
          "text": [
            "--2019-02-13 12:39:35--  https://learnodo-newtonic.com/wp-content/uploads/2014/10/Famous-Renaissance-Paintings-Featured-Image-The-Creation-of-Adam.jpg\n",
            "Resolving learnodo-newtonic.com (learnodo-newtonic.com)... 52.8.181.78\n",
            "Connecting to learnodo-newtonic.com (learnodo-newtonic.com)|52.8.181.78|:443... connected.\n",
            "HTTP request sent, awaiting response... 200 OK\n",
            "Length: unspecified [image/jpeg]\n",
            "Saving to: ‘Famous-Renaissance-Paintings-Featured-Image-The-Creation-of-Adam.jpg.1’\n",
            "\n",
            "\r          Famous-Re     [<=>                 ]       0  --.-KB/s               \rFamous-Renaissance-     [ <=>                ] 124.56K  --.-KB/s    in 0.07s   \n",
            "\n",
            "2019-02-13 12:39:35 (1.74 MB/s) - ‘Famous-Renaissance-Paintings-Featured-Image-The-Creation-of-Adam.jpg.1’ saved [127551]\n",
            "\n",
            "--2019-02-13 12:39:35--  https://wisetoast.com/wp-content/uploads/2015/10/Starry-Night-by-Vincent-Van-Gogh-painting.jpg\n",
            "Resolving wisetoast.com (wisetoast.com)... 87.76.31.162\n",
            "Connecting to wisetoast.com (wisetoast.com)|87.76.31.162|:443... connected.\n",
            "HTTP request sent, awaiting response... 200 OK\n",
            "Length: 515982 (504K) [image/jpeg]\n",
            "Saving to: ‘Starry-Night-by-Vincent-Van-Gogh-painting.jpg’\n",
            "\n",
            "Starry-Night-by-Vin 100%[===================>] 503.89K   419KB/s    in 1.2s    \n",
            "\n",
            "2019-02-13 12:39:37 (419 KB/s) - ‘Starry-Night-by-Vincent-Van-Gogh-painting.jpg’ saved [515982/515982]\n",
            "\n",
            "FINISHED --2019-02-13 12:39:37--\n",
            "Total wall clock time: 2.0s\n",
            "Downloaded: 2 files, 628K in 1.3s (494 KB/s)\n"
          ],
          "name": "stdout"
        }
      ]
    },
    {
      "metadata": {
        "id": "SJQ6JTVM0yXr",
        "colab_type": "code",
        "outputId": "c77aa39c-7efa-432b-f1f9-da8b166c8df7",
        "colab": {
          "base_uri": "https://localhost:8080/",
          "height": 1480
        }
      },
      "cell_type": "code",
      "source": [
        "!python test.py"
      ],
      "execution_count": 0,
      "outputs": [
        {
          "output_type": "stream",
          "text": [
            "Loading Extracting Feature Module...\n",
            "Okay :-)\n",
            "Loading Generating Poem Module...\n",
            "2019-02-13 13:06:05.418323: I tensorflow/core/platform/profile_utils/cpu_utils.cc:94] CPU Frequency: 2300000000 Hz\n",
            "2019-02-13 13:06:05.418609: I tensorflow/compiler/xla/service/service.cc:150] XLA service 0x254a840 executing computations on platform Host. Devices:\n",
            "2019-02-13 13:06:05.418689: I tensorflow/compiler/xla/service/service.cc:158]   StreamExecutor device (0): <undefined>, <undefined>\n",
            "WARNING:tensorflow:From /usr/local/lib/python3.6/dist-packages/tensorflow/python/framework/op_def_library.py:263: colocate_with (from tensorflow.python.framework.ops) is deprecated and will be removed in a future version.\n",
            "Instructions for updating:\n",
            "Colocations handled automatically by placer.\n",
            "WARNING:tensorflow:From /content/img2poem/code/src/model.py:221: GRUCell.__init__ (from tensorflow.python.ops.rnn_cell_impl) is deprecated and will be removed in a future version.\n",
            "Instructions for updating:\n",
            "This class is equivalent as tf.keras.layers.GRUCell, and will be replaced by that in Tensorflow 2.0.\n",
            "\n",
            "WARNING: The TensorFlow contrib module will not be included in TensorFlow 2.0.\n",
            "For more information, please see:\n",
            "  * https://github.com/tensorflow/community/blob/master/rfcs/20180907-contrib-sunset.md\n",
            "  * https://github.com/tensorflow/addons\n",
            "If you depend on functionality not listed there, please file an issue.\n",
            "\n",
            "WARNING:tensorflow:From /content/img2poem/code/src/model.py:265: multinomial (from tensorflow.python.ops.random_ops) is deprecated and will be removed in a future version.\n",
            "Instructions for updating:\n",
            "Use tf.random.categorical instead.\n",
            "WARNING:tensorflow:From /usr/local/lib/python3.6/dist-packages/tensorflow/python/training/saver.py:1266: checkpoint_exists (from tensorflow.python.training.checkpoint_management) is deprecated and will be removed in a future version.\n",
            "Instructions for updating:\n",
            "Use standard file APIs to check for files with this prefix.\n",
            "WARNING:tensorflow:From /usr/local/lib/python3.6/dist-packages/tensorflow/python/training/saver.py:1266: checkpoint_exists (from tensorflow.python.training.checkpoint_management) is deprecated and will be removed in a future version.\n",
            "Instructions for updating:\n",
            "Use standard file APIs to check for files with this prefix.\n",
            "Okay :-)\n",
            "Please input the path to an image [default='../images/test.jpg']: ../../../mountaindd.jpg\n",
            "\n",
            "i know not the same thing\n",
            "ever ever desired to say\n",
            "who is always something in your heart\n",
            "if you want to be really want you\n",
            "don't know what you want\n",
            "to be better than you can be\n",
            "if you wish to be a dream\n",
            "if you want to be a butterfly\n",
            "do you know not just look at\n",
            "you feel\n",
            "\n",
            "Cost Time: 2.929631\n",
            "Please input the path to an image [default='../images/test.jpg']: Traceback (most recent call last):\n",
            "  File \"test.py\", line 43, in <module>\n",
            "Process Process-1:\n",
            "Process Process-2:\n",
            "    s = raw_input(\"Please input the path to an image [default='%s']: \" % DEFAULT_PATH)\n",
            "KeyboardInterrupt\n",
            "Traceback (most recent call last):\n",
            "Traceback (most recent call last):\n",
            "  File \"/usr/lib/python3.6/multiprocessing/process.py\", line 258, in _bootstrap\n",
            "    self.run()\n",
            "  File \"/usr/lib/python3.6/multiprocessing/process.py\", line 93, in run\n",
            "    self._target(*self._args, **self._kwargs)\n",
            "  File \"/content/img2poem/code/src/nn_process.py\", line 10, in pipe_process\n",
            "    data = pipe.recv()\n",
            "  File \"/usr/lib/python3.6/multiprocessing/connection.py\", line 250, in recv\n",
            "    buf = self._recv_bytes()\n",
            "  File \"/usr/lib/python3.6/multiprocessing/connection.py\", line 407, in _recv_bytes\n",
            "    buf = self._recv(4)\n",
            "  File \"/usr/lib/python3.6/multiprocessing/connection.py\", line 379, in _recv\n",
            "    chunk = read(handle, remaining)\n",
            "KeyboardInterrupt\n",
            "  File \"/usr/lib/python3.6/multiprocessing/process.py\", line 258, in _bootstrap\n",
            "    self.run()\n",
            "  File \"/usr/lib/python3.6/multiprocessing/process.py\", line 93, in run\n",
            "    self._target(*self._args, **self._kwargs)\n",
            "  File \"/content/img2poem/code/src/nn_process.py\", line 10, in pipe_process\n",
            "    data = pipe.recv()\n",
            "  File \"/usr/lib/python3.6/multiprocessing/connection.py\", line 250, in recv\n",
            "    buf = self._recv_bytes()\n",
            "  File \"/usr/lib/python3.6/multiprocessing/connection.py\", line 407, in _recv_bytes\n",
            "    buf = self._recv(4)\n",
            "  File \"/usr/lib/python3.6/multiprocessing/connection.py\", line 379, in _recv\n",
            "    chunk = read(handle, remaining)\n",
            "KeyboardInterrupt\n",
            "Error in atexit._run_exitfuncs:\n",
            "Traceback (most recent call last):\n",
            "  File \"/usr/lib/python3.6/multiprocessing/popen_fork.py\", line 28, in poll\n",
            "    pid, sts = os.waitpid(self.pid, flag)\n",
            "KeyboardInterrupt\n"
          ],
          "name": "stdout"
        }
      ]
    }
  ]
}